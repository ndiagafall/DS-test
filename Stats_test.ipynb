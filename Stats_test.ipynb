{
 "cells": [
  {
   "cell_type": "code",
   "execution_count": 3,
   "metadata": {},
   "outputs": [],
   "source": [
    "import numpy as np\n",
    "import pandas as pd\n",
    "from scipy.stats import *"
   ]
  },
  {
   "cell_type": "code",
   "execution_count": 5,
   "metadata": {},
   "outputs": [
    {
     "name": "stdout",
     "output_type": "stream",
     "text": [
      "      RowNumber  CustomerId    Surname  CreditScore Geography  Gender  Age  \\\n",
      "0             1    15634602   Hargrave          619    France  Female   42   \n",
      "1             2    15647311       Hill          608     Spain  Female   41   \n",
      "2             3    15619304       Onio          502    France  Female   42   \n",
      "3             4    15701354       Boni          699    France  Female   39   \n",
      "4             5    15737888   Mitchell          850     Spain  Female   43   \n",
      "...         ...         ...        ...          ...       ...     ...  ...   \n",
      "9995       9996    15606229   Obijiaku          771    France    Male   39   \n",
      "9996       9997    15569892  Johnstone          516    France    Male   35   \n",
      "9997       9998    15584532        Liu          709    France  Female   36   \n",
      "9998       9999    15682355  Sabbatini          772   Germany    Male   42   \n",
      "9999      10000    15628319     Walker          792    France  Female   28   \n",
      "\n",
      "      Tenure    Balance  NumOfProducts  HasCrCard  IsActiveMember  \\\n",
      "0          2       0.00              1          1               1   \n",
      "1          1   83807.86              1          0               1   \n",
      "2          8  159660.80              3          1               0   \n",
      "3          1       0.00              2          0               0   \n",
      "4          2  125510.82              1          1               1   \n",
      "...      ...        ...            ...        ...             ...   \n",
      "9995       5       0.00              2          1               0   \n",
      "9996      10   57369.61              1          1               1   \n",
      "9997       7       0.00              1          0               1   \n",
      "9998       3   75075.31              2          1               0   \n",
      "9999       4  130142.79              1          1               0   \n",
      "\n",
      "      EstimatedSalary  Exited  \n",
      "0           101348.88       1  \n",
      "1           112542.58       0  \n",
      "2           113931.57       1  \n",
      "3            93826.63       0  \n",
      "4            79084.10       0  \n",
      "...               ...     ...  \n",
      "9995         96270.64       0  \n",
      "9996        101699.77       0  \n",
      "9997         42085.58       1  \n",
      "9998         92888.52       1  \n",
      "9999         38190.78       0  \n",
      "\n",
      "[10000 rows x 14 columns]\n"
     ]
    }
   ],
   "source": [
    "data = pd.read_csv(\"Churn_Modelling.csv\")\n",
    "print(data)"
   ]
  },
  {
   "cell_type": "code",
   "execution_count": 6,
   "metadata": {},
   "outputs": [
    {
     "data": {
      "text/plain": [
       "RowNumber           28.868957\n",
       "CustomerId         719.361861\n",
       "CreditScore          0.966533\n",
       "Age                  0.104878\n",
       "Tenure               0.028922\n",
       "Balance            623.974052\n",
       "NumOfProducts        0.005817\n",
       "HasCrCard            0.004558\n",
       "IsActiveMember       0.004998\n",
       "EstimatedSalary    575.104928\n",
       "Exited               0.004028\n",
       "dtype: float64"
      ]
     },
     "execution_count": 6,
     "metadata": {},
     "output_type": "execute_result"
    }
   ],
   "source": [
    "data.describe()\n",
    "data.mean()\n",
    "data.skew()\n",
    "data.min()\n",
    "data.max()\n",
    "data.sem()"
   ]
  },
  {
   "cell_type": "code",
   "execution_count": 49,
   "metadata": {},
   "outputs": [
    {
     "data": {
      "text/plain": [
       "CumfreqResult(cumcount=array([  226.,  1968.,  5564.,  8115.,  9118.,  9681.,  9894.,  9985.,\n",
       "        9997., 10000.]), lowerlimit=13.88888888888889, binsize=8.222222222222225, extrapoints=0)"
      ]
     },
     "execution_count": 49,
     "metadata": {},
     "output_type": "execute_result"
    }
   ],
   "source": [
    "cumfreq(data.Age)"
   ]
  },
  {
   "cell_type": "code",
   "execution_count": 9,
   "metadata": {},
   "outputs": [
    {
     "name": "stdout",
     "output_type": "stream",
     "text": [
      "(-0.0039649055253900755, 0.6917785842201055)\n",
      "SpearmanrResult(correlation=-0.007974044311824222, pvalue=0.4252667030635392)\n"
     ]
    }
   ],
   "source": [
    "# Correlation\n",
    "test_alpha = stats.pearsonr(data.Age, data.CreditScore)\n",
    "print(test_alpha)\n",
    "\n",
    "test_omega = stats.spearmanr(data.Age, data.CreditScore)\n",
    "print(test_omega)"
   ]
  },
  {
   "cell_type": "code",
   "execution_count": 14,
   "metadata": {},
   "outputs": [
    {
     "name": "stdout",
     "output_type": "stream",
     "text": [
      "Power_divergenceResult(statistic=6405558.849161411, pvalue=0.0)\n"
     ]
    }
   ],
   "source": [
    "test = stats.chisquare(data.Tenure, data.CreditScore)\n",
    "print(test)"
   ]
  },
  {
   "cell_type": "code",
   "execution_count": 31,
   "metadata": {},
   "outputs": [
    {
     "data": {
      "text/plain": [
       "[Text(0, 0.5, 'Frequency'), Text(0.5, 0, 'Dist1')]"
      ]
     },
     "execution_count": 31,
     "metadata": {},
     "output_type": "execute_result"
    },
    {
     "data": {
      "image/png": "[encoded data removed]",
      "text/plain": [
       "<Figure size 432x288 with 1 Axes>"
      ]
     },
     "metadata": {
      "needs_background": "light"
     },
     "output_type": "display_data"
    }
   ],
   "source": [
    "from scipy.stats import expon\n",
    "import seaborn as sns\n",
    "\n",
    "dexp = expon.rvs(size=10000,loc=0,scale=1)\n",
    "\n",
    "plot4 = sns.distplot(dexp,\n",
    "                  bins=80,\n",
    "                  kde=True,\n",
    "                  color='darkblue',\n",
    "                  hist_kws={\"linewidth\": 30,'alpha':1})\n",
    "plot4.set(xlabel='Dist1', ylabel='Frequency')"
   ]
  },
  {
   "cell_type": "code",
   "execution_count": 21,
   "metadata": {},
   "outputs": [
    {
     "data": {
      "text/html": [
       "<div>\n",
       "<style scoped>\n",
       "    .dataframe tbody tr th:only-of-type {\n",
       "        vertical-align: middle;\n",
       "    }\n",
       "\n",
       "    .dataframe tbody tr th {\n",
       "        vertical-align: top;\n",
       "    }\n",
       "\n",
       "    .dataframe thead th {\n",
       "        text-align: right;\n",
       "    }\n",
       "</style>\n",
       "<table border=\"1\" class=\"dataframe\">\n",
       "  <thead>\n",
       "    <tr style=\"text-align: right;\">\n",
       "      <th></th>\n",
       "      <th>RowNumber</th>\n",
       "      <th>CustomerId</th>\n",
       "      <th>CreditScore</th>\n",
       "      <th>Age</th>\n",
       "      <th>Tenure</th>\n",
       "      <th>Balance</th>\n",
       "      <th>NumOfProducts</th>\n",
       "      <th>HasCrCard</th>\n",
       "      <th>IsActiveMember</th>\n",
       "      <th>EstimatedSalary</th>\n",
       "      <th>Exited</th>\n",
       "    </tr>\n",
       "  </thead>\n",
       "  <tbody>\n",
       "    <tr>\n",
       "      <th>count</th>\n",
       "      <td>10000.00000</td>\n",
       "      <td>1.000000e+04</td>\n",
       "      <td>10000.000000</td>\n",
       "      <td>10000.000000</td>\n",
       "      <td>10000.000000</td>\n",
       "      <td>10000.000000</td>\n",
       "      <td>10000.000000</td>\n",
       "      <td>10000.00000</td>\n",
       "      <td>10000.000000</td>\n",
       "      <td>10000.000000</td>\n",
       "      <td>10000.000000</td>\n",
       "    </tr>\n",
       "    <tr>\n",
       "      <th>mean</th>\n",
       "      <td>5000.50000</td>\n",
       "      <td>1.569094e+07</td>\n",
       "      <td>650.528800</td>\n",
       "      <td>38.921800</td>\n",
       "      <td>5.012800</td>\n",
       "      <td>76485.889288</td>\n",
       "      <td>1.530200</td>\n",
       "      <td>0.70550</td>\n",
       "      <td>0.515100</td>\n",
       "      <td>100090.239881</td>\n",
       "      <td>0.203700</td>\n",
       "    </tr>\n",
       "    <tr>\n",
       "      <th>std</th>\n",
       "      <td>2886.89568</td>\n",
       "      <td>7.193619e+04</td>\n",
       "      <td>96.653299</td>\n",
       "      <td>10.487806</td>\n",
       "      <td>2.892174</td>\n",
       "      <td>62397.405202</td>\n",
       "      <td>0.581654</td>\n",
       "      <td>0.45584</td>\n",
       "      <td>0.499797</td>\n",
       "      <td>57510.492818</td>\n",
       "      <td>0.402769</td>\n",
       "    </tr>\n",
       "    <tr>\n",
       "      <th>min</th>\n",
       "      <td>1.00000</td>\n",
       "      <td>1.556570e+07</td>\n",
       "      <td>350.000000</td>\n",
       "      <td>18.000000</td>\n",
       "      <td>0.000000</td>\n",
       "      <td>0.000000</td>\n",
       "      <td>1.000000</td>\n",
       "      <td>0.00000</td>\n",
       "      <td>0.000000</td>\n",
       "      <td>11.580000</td>\n",
       "      <td>0.000000</td>\n",
       "    </tr>\n",
       "    <tr>\n",
       "      <th>25%</th>\n",
       "      <td>2500.75000</td>\n",
       "      <td>1.562853e+07</td>\n",
       "      <td>584.000000</td>\n",
       "      <td>32.000000</td>\n",
       "      <td>3.000000</td>\n",
       "      <td>0.000000</td>\n",
       "      <td>1.000000</td>\n",
       "      <td>0.00000</td>\n",
       "      <td>0.000000</td>\n",
       "      <td>51002.110000</td>\n",
       "      <td>0.000000</td>\n",
       "    </tr>\n",
       "    <tr>\n",
       "      <th>50%</th>\n",
       "      <td>5000.50000</td>\n",
       "      <td>1.569074e+07</td>\n",
       "      <td>652.000000</td>\n",
       "      <td>37.000000</td>\n",
       "      <td>5.000000</td>\n",
       "      <td>97198.540000</td>\n",
       "      <td>1.000000</td>\n",
       "      <td>1.00000</td>\n",
       "      <td>1.000000</td>\n",
       "      <td>100193.915000</td>\n",
       "      <td>0.000000</td>\n",
       "    </tr>\n",
       "    <tr>\n",
       "      <th>75%</th>\n",
       "      <td>7500.25000</td>\n",
       "      <td>1.575323e+07</td>\n",
       "      <td>718.000000</td>\n",
       "      <td>44.000000</td>\n",
       "      <td>7.000000</td>\n",
       "      <td>127644.240000</td>\n",
       "      <td>2.000000</td>\n",
       "      <td>1.00000</td>\n",
       "      <td>1.000000</td>\n",
       "      <td>149388.247500</td>\n",
       "      <td>0.000000</td>\n",
       "    </tr>\n",
       "    <tr>\n",
       "      <th>max</th>\n",
       "      <td>10000.00000</td>\n",
       "      <td>1.581569e+07</td>\n",
       "      <td>850.000000</td>\n",
       "      <td>92.000000</td>\n",
       "      <td>10.000000</td>\n",
       "      <td>250898.090000</td>\n",
       "      <td>4.000000</td>\n",
       "      <td>1.00000</td>\n",
       "      <td>1.000000</td>\n",
       "      <td>199992.480000</td>\n",
       "      <td>1.000000</td>\n",
       "    </tr>\n",
       "  </tbody>\n",
       "</table>\n",
       "</div>"
      ],
      "text/plain": [
       "         RowNumber    CustomerId   CreditScore           Age        Tenure  \\\n",
       "count  10000.00000  1.000000e+04  10000.000000  10000.000000  10000.000000   \n",
       "mean    5000.50000  1.569094e+07    650.528800     38.921800      5.012800   \n",
       "std     2886.89568  7.193619e+04     96.653299     10.487806      2.892174   \n",
       "min        1.00000  1.556570e+07    350.000000     18.000000      0.000000   \n",
       "25%     2500.75000  1.562853e+07    584.000000     32.000000      3.000000   \n",
       "50%     5000.50000  1.569074e+07    652.000000     37.000000      5.000000   \n",
       "75%     7500.25000  1.575323e+07    718.000000     44.000000      7.000000   \n",
       "max    10000.00000  1.581569e+07    850.000000     92.000000     10.000000   \n",
       "\n",
       "             Balance  NumOfProducts    HasCrCard  IsActiveMember  \\\n",
       "count   10000.000000   10000.000000  10000.00000    10000.000000   \n",
       "mean    76485.889288       1.530200      0.70550        0.515100   \n",
       "std     62397.405202       0.581654      0.45584        0.499797   \n",
       "min         0.000000       1.000000      0.00000        0.000000   \n",
       "25%         0.000000       1.000000      0.00000        0.000000   \n",
       "50%     97198.540000       1.000000      1.00000        1.000000   \n",
       "75%    127644.240000       2.000000      1.00000        1.000000   \n",
       "max    250898.090000       4.000000      1.00000        1.000000   \n",
       "\n",
       "       EstimatedSalary        Exited  \n",
       "count     10000.000000  10000.000000  \n",
       "mean     100090.239881      0.203700  \n",
       "std       57510.492818      0.402769  \n",
       "min          11.580000      0.000000  \n",
       "25%       51002.110000      0.000000  \n",
       "50%      100193.915000      0.000000  \n",
       "75%      149388.247500      0.000000  \n",
       "max      199992.480000      1.000000  "
      ]
     },
     "execution_count": 21,
     "metadata": {},
     "output_type": "execute_result"
    }
   ],
   "source": [
    "data.describe()"
   ]
  },
  {
   "cell_type": "code",
   "execution_count": 22,
   "metadata": {},
   "outputs": [
    {
     "name": "stdout",
     "output_type": "stream",
     "text": [
      "<class 'pandas.core.frame.DataFrame'>\n",
      "RangeIndex: 10000 entries, 0 to 9999\n",
      "Data columns (total 14 columns):\n",
      " #   Column           Non-Null Count  Dtype  \n",
      "---  ------           --------------  -----  \n",
      " 0   RowNumber        10000 non-null  int64  \n",
      " 1   CustomerId       10000 non-null  int64  \n",
      " 2   Surname          10000 non-null  object \n",
      " 3   CreditScore      10000 non-null  int64  \n",
      " 4   Geography        10000 non-null  object \n",
      " 5   Gender           10000 non-null  object \n",
      " 6   Age              10000 non-null  int64  \n",
      " 7   Tenure           10000 non-null  int64  \n",
      " 8   Balance          10000 non-null  float64\n",
      " 9   NumOfProducts    10000 non-null  int64  \n",
      " 10  HasCrCard        10000 non-null  int64  \n",
      " 11  IsActiveMember   10000 non-null  int64  \n",
      " 12  EstimatedSalary  10000 non-null  float64\n",
      " 13  Exited           10000 non-null  int64  \n",
      "dtypes: float64(2), int64(9), object(3)\n",
      "memory usage: 1.1+ MB\n"
     ]
    }
   ],
   "source": [
    "data.info()"
   ]
  },
  {
   "cell_type": "code",
   "execution_count": 23,
   "metadata": {},
   "outputs": [
    {
     "data": {
      "text/plain": [
       "(10000, 14)"
      ]
     },
     "execution_count": 23,
     "metadata": {},
     "output_type": "execute_result"
    }
   ],
   "source": [
    "data.shape"
   ]
  },
  {
   "cell_type": "code",
   "execution_count": 32,
   "metadata": {},
   "outputs": [
    {
     "data": {
      "text/plain": [
       "[Text(0, 0.5, 'Frequency'), Text(0.5, 0, 'Dist 2')]"
      ]
     },
     "execution_count": 32,
     "metadata": {},
     "output_type": "execute_result"
    },
    {
     "data": {
      "image/png": "[encoded data removed]",
      "text/plain": [
       "<Figure size 432x288 with 1 Axes>"
      ]
     },
     "metadata": {
      "needs_background": "light"
     },
     "output_type": "display_data"
    }
   ],
   "source": [
    "from scipy.stats import norm\n",
    "\n",
    "dnormal = norm.rvs(size=5000,loc=0,scale=1)\n",
    "\n",
    "plot3 = sns.distplot(dnormal,\n",
    "                  bins=100,\n",
    "                  kde=True,\n",
    "                  color='grey',\n",
    "                  hist_kws={\"linewidth\": 20,'alpha':1})\n",
    "plot3.set(xlabel='Dist 2', ylabel='Frequency')"
   ]
  },
  {
   "cell_type": "code",
   "execution_count": 33,
   "metadata": {},
   "outputs": [
    {
     "data": {
      "text/plain": [
       "[Text(0, 0.5, 'frequency'), Text(0.5, 0, 'dist 3')]"
      ]
     },
     "execution_count": 33,
     "metadata": {},
     "output_type": "execute_result"
    },
    {
     "data": {
      "image/png": "[encoded data removed]",
      "text/plain": [
       "<Figure size 432x288 with 1 Axes>"
      ]
     },
     "metadata": {
      "needs_background": "light"
     },
     "output_type": "display_data"
    }
   ],
   "source": [
    "from scipy.stats import uniform\n",
    "\n",
    "n = 1000\n",
    "start = 0\n",
    "width = 1\n",
    "\n",
    "duni = uniform.rvs(size = n, loc = start, scale = width)\n",
    "\n",
    "plot1 = sns.distplot(duni)\n",
    "\n",
    "plot2= sns.distplot(duni, bins=100, color='black', kde=True, hist_kws =\n",
    "                    {'linewidth' : 15, 'alpha':1})\n",
    "plot2.set(xlabel = 'dist 3', ylabel = 'frequency')"
   ]
  },
  {
   "cell_type": "code",
   "execution_count": 36,
   "metadata": {},
   "outputs": [
    {
     "data": {
      "text/plain": [
       "[Text(0, 0.5, 'Frequency'), Text(0.5, 0, 'Dist 2')]"
      ]
     },
     "execution_count": 36,
     "metadata": {},
     "output_type": "execute_result"
    },
    {
     "data": {
      "image/png": "[encoded data removed]",
      "text/plain": [
       "<Figure size 432x288 with 1 Axes>"
      ]
     },
     "metadata": {
      "needs_background": "light"
     },
     "output_type": "display_data"
    }
   ],
   "source": [
    "plot_Age = sns.distplot(data.Age,\n",
    "                  bins=100,\n",
    "                  kde=True,\n",
    "                  color='green',\n",
    "                  hist_kws={\"linewidth\": 20,'alpha':1})\n",
    "plot3.set(xlabel='Dist 2', ylabel='Frequency')"
   ]
  },
  {
   "cell_type": "code",
   "execution_count": 39,
   "metadata": {},
   "outputs": [
    {
     "data": {
      "text/plain": [
       "[Text(17.200000000000003, 0.5, 'Frequency'),\n",
       " Text(0.5, 17.200000000000003, 'Dist 2')]"
      ]
     },
     "execution_count": 39,
     "metadata": {},
     "output_type": "execute_result"
    },
    {
     "data": {
      "image/png": "[encoded data removed]",
      "text/plain": [
       "<Figure size 432x288 with 1 Axes>"
      ]
     },
     "metadata": {
      "needs_background": "light"
     },
     "output_type": "display_data"
    }
   ],
   "source": [
    "plot_Age = sns.distplot(data.CreditScore,\n",
    "                  bins=100,\n",
    "                  kde=True,\n",
    "                  color='red',\n",
    "                  hist_kws={\"linewidth\": 20,'alpha':1})\n",
    "plot3.set(xlabel='Dist 2', ylabel='Frequency')"
   ]
  },
  {
   "cell_type": "code",
   "execution_count": 41,
   "metadata": {},
   "outputs": [
    {
     "name": "stdout",
     "output_type": "stream",
     "text": [
      "      Age  CreditScore\n",
      "0      42          619\n",
      "1      41          608\n",
      "2      42          502\n",
      "3      39          699\n",
      "4      43          850\n",
      "...   ...          ...\n",
      "9995   39          771\n",
      "9996   35          516\n",
      "9997   36          709\n",
      "9998   42          772\n",
      "9999   28          792\n",
      "\n",
      "[10000 rows x 2 columns]\n"
     ]
    }
   ],
   "source": [
    "data_test = data[[\"Age\", \"CreditScore\"]]\n",
    "print(data_test)"
   ]
  },
  {
   "cell_type": "code",
   "execution_count": 48,
   "metadata": {},
   "outputs": [
    {
     "data": {
      "text/html": [
       "<div>\n",
       "<style scoped>\n",
       "    .dataframe tbody tr th:only-of-type {\n",
       "        vertical-align: middle;\n",
       "    }\n",
       "\n",
       "    .dataframe tbody tr th {\n",
       "        vertical-align: top;\n",
       "    }\n",
       "\n",
       "    .dataframe thead th {\n",
       "        text-align: right;\n",
       "    }\n",
       "</style>\n",
       "<table border=\"1\" class=\"dataframe\">\n",
       "  <thead>\n",
       "    <tr style=\"text-align: right;\">\n",
       "      <th></th>\n",
       "      <th>Age</th>\n",
       "      <th>CreditScore</th>\n",
       "    </tr>\n",
       "  </thead>\n",
       "  <tbody>\n",
       "    <tr>\n",
       "      <th>count</th>\n",
       "      <td>10000.000000</td>\n",
       "      <td>10000.000000</td>\n",
       "    </tr>\n",
       "    <tr>\n",
       "      <th>mean</th>\n",
       "      <td>38.921800</td>\n",
       "      <td>650.528800</td>\n",
       "    </tr>\n",
       "    <tr>\n",
       "      <th>std</th>\n",
       "      <td>10.487806</td>\n",
       "      <td>96.653299</td>\n",
       "    </tr>\n",
       "    <tr>\n",
       "      <th>min</th>\n",
       "      <td>18.000000</td>\n",
       "      <td>350.000000</td>\n",
       "    </tr>\n",
       "    <tr>\n",
       "      <th>25%</th>\n",
       "      <td>32.000000</td>\n",
       "      <td>584.000000</td>\n",
       "    </tr>\n",
       "    <tr>\n",
       "      <th>50%</th>\n",
       "      <td>37.000000</td>\n",
       "      <td>652.000000</td>\n",
       "    </tr>\n",
       "    <tr>\n",
       "      <th>75%</th>\n",
       "      <td>44.000000</td>\n",
       "      <td>718.000000</td>\n",
       "    </tr>\n",
       "    <tr>\n",
       "      <th>max</th>\n",
       "      <td>92.000000</td>\n",
       "      <td>850.000000</td>\n",
       "    </tr>\n",
       "  </tbody>\n",
       "</table>\n",
       "</div>"
      ],
      "text/plain": [
       "                Age   CreditScore\n",
       "count  10000.000000  10000.000000\n",
       "mean      38.921800    650.528800\n",
       "std       10.487806     96.653299\n",
       "min       18.000000    350.000000\n",
       "25%       32.000000    584.000000\n",
       "50%       37.000000    652.000000\n",
       "75%       44.000000    718.000000\n",
       "max       92.000000    850.000000"
      ]
     },
     "execution_count": 48,
     "metadata": {},
     "output_type": "execute_result"
    }
   ],
   "source": [
    "data_test.describe()"
   ]
  },
  {
   "cell_type": "code",
   "execution_count": 50,
   "metadata": {},
   "outputs": [
    {
     "name": "stderr",
     "output_type": "stream",
     "text": [
      "<ipython-input-50-6c4ae42c585f>:1: DeprecationWarning: `itemfreq` is deprecated!\n",
      "`itemfreq` is deprecated and will be removed in a future version. Use instead `np.unique(..., return_counts=True)`\n",
      "  itemfreq(data.CreditScore)\n"
     ]
    },
    {
     "data": {
      "text/plain": [
       "array([[350,   5],\n",
       "       [351,   1],\n",
       "       [358,   1],\n",
       "       [359,   1],\n",
       "       [363,   1],\n",
       "       [365,   1],\n",
       "       [367,   1],\n",
       "       [373,   1],\n",
       "       [376,   2],\n",
       "       [382,   1],\n",
       "       [383,   1],\n",
       "       [386,   1],\n",
       "       [395,   1],\n",
       "       [399,   1],\n",
       "       [401,   1],\n",
       "       [404,   1],\n",
       "       [405,   2],\n",
       "       [407,   1],\n",
       "       [408,   2],\n",
       "       [410,   3],\n",
       "       [411,   4],\n",
       "       [412,   1],\n",
       "       [413,   3],\n",
       "       [414,   2],\n",
       "       [415,   3],\n",
       "       [416,   4],\n",
       "       [417,   1],\n",
       "       [418,   6],\n",
       "       [419,   1],\n",
       "       [420,   3],\n",
       "       [421,   3],\n",
       "       [422,   4],\n",
       "       [423,   1],\n",
       "       [424,   1],\n",
       "       [425,   4],\n",
       "       [426,   2],\n",
       "       [427,   6],\n",
       "       [428,   3],\n",
       "       [429,   4],\n",
       "       [430,   9],\n",
       "       [431,   5],\n",
       "       [432,   5],\n",
       "       [433,   3],\n",
       "       [434,   6],\n",
       "       [435,   5],\n",
       "       [436,   2],\n",
       "       [437,   6],\n",
       "       [438,   6],\n",
       "       [439,   7],\n",
       "       [440,   1],\n",
       "       [441,   1],\n",
       "       [442,   1],\n",
       "       [443,   8],\n",
       "       [444,   6],\n",
       "       [445,  12],\n",
       "       [446,   5],\n",
       "       [447,   4],\n",
       "       [448,   2],\n",
       "       [449,   6],\n",
       "       [450,   4],\n",
       "       [451,   5],\n",
       "       [452,  10],\n",
       "       [453,   6],\n",
       "       [454,   4],\n",
       "       [455,   4],\n",
       "       [456,   5],\n",
       "       [457,   7],\n",
       "       [458,   7],\n",
       "       [459,   5],\n",
       "       [460,   4],\n",
       "       [461,   8],\n",
       "       [462,   4],\n",
       "       [463,   4],\n",
       "       [464,   7],\n",
       "       [465,   9],\n",
       "       [466,  10],\n",
       "       [467,   4],\n",
       "       [468,  11],\n",
       "       [469,   7],\n",
       "       [470,   9],\n",
       "       [471,   7],\n",
       "       [472,   8],\n",
       "       [473,   8],\n",
       "       [474,   9],\n",
       "       [475,   6],\n",
       "       [476,   8],\n",
       "       [477,  13],\n",
       "       [478,   7],\n",
       "       [479,  17],\n",
       "       [480,   9],\n",
       "       [481,  10],\n",
       "       [482,   6],\n",
       "       [483,   7],\n",
       "       [484,  11],\n",
       "       [485,  12],\n",
       "       [486,   9],\n",
       "       [487,  14],\n",
       "       [488,  10],\n",
       "       [489,  12],\n",
       "       [490,  13],\n",
       "       [491,  10],\n",
       "       [492,  15],\n",
       "       [493,  12],\n",
       "       [494,  13],\n",
       "       [495,   8],\n",
       "       [496,  12],\n",
       "       [497,  15],\n",
       "       [498,  17],\n",
       "       [499,  15],\n",
       "       [500,  11],\n",
       "       [501,  19],\n",
       "       [502,  14],\n",
       "       [503,  13],\n",
       "       [504,  14],\n",
       "       [505,  15],\n",
       "       [506,  16],\n",
       "       [507,  18],\n",
       "       [508,  16],\n",
       "       [509,  13],\n",
       "       [510,  14],\n",
       "       [511,  16],\n",
       "       [512,  24],\n",
       "       [513,  17],\n",
       "       [514,  11],\n",
       "       [515,  16],\n",
       "       [516,  30],\n",
       "       [517,  11],\n",
       "       [518,  15],\n",
       "       [519,  14],\n",
       "       [520,  27],\n",
       "       [521,  26],\n",
       "       [522,   9],\n",
       "       [523,  21],\n",
       "       [524,  19],\n",
       "       [525,  19],\n",
       "       [526,  23],\n",
       "       [527,  20],\n",
       "       [528,  22],\n",
       "       [529,  30],\n",
       "       [530,  19],\n",
       "       [531,  21],\n",
       "       [532,  13],\n",
       "       [533,  11],\n",
       "       [534,  19],\n",
       "       [535,  29],\n",
       "       [536,  14],\n",
       "       [537,  28],\n",
       "       [538,  20],\n",
       "       [539,  25],\n",
       "       [540,  24],\n",
       "       [541,  14],\n",
       "       [542,  23],\n",
       "       [543,  31],\n",
       "       [544,  25],\n",
       "       [545,  24],\n",
       "       [546,  18],\n",
       "       [547,  22],\n",
       "       [548,  21],\n",
       "       [549,  24],\n",
       "       [550,  31],\n",
       "       [551,  21],\n",
       "       [552,  17],\n",
       "       [553,  24],\n",
       "       [554,  41],\n",
       "       [555,  29],\n",
       "       [556,  27],\n",
       "       [557,  21],\n",
       "       [558,  23],\n",
       "       [559,  33],\n",
       "       [560,  19],\n",
       "       [561,  25],\n",
       "       [562,  27],\n",
       "       [563,  19],\n",
       "       [564,  25],\n",
       "       [565,  23],\n",
       "       [566,  15],\n",
       "       [567,  32],\n",
       "       [568,  23],\n",
       "       [569,  29],\n",
       "       [570,  23],\n",
       "       [571,  26],\n",
       "       [572,  23],\n",
       "       [573,  31],\n",
       "       [574,  21],\n",
       "       [575,  24],\n",
       "       [576,  27],\n",
       "       [577,  34],\n",
       "       [578,  22],\n",
       "       [579,  37],\n",
       "       [580,  31],\n",
       "       [581,  38],\n",
       "       [582,  27],\n",
       "       [583,  33],\n",
       "       [584,  43],\n",
       "       [585,  28],\n",
       "       [586,  34],\n",
       "       [587,  31],\n",
       "       [588,  34],\n",
       "       [589,  30],\n",
       "       [590,  36],\n",
       "       [591,  31],\n",
       "       [592,  38],\n",
       "       [593,  38],\n",
       "       [594,  33],\n",
       "       [595,  29],\n",
       "       [596,  30],\n",
       "       [597,  40],\n",
       "       [598,  34],\n",
       "       [599,  34],\n",
       "       [600,  32],\n",
       "       [601,  40],\n",
       "       [602,  34],\n",
       "       [603,  33],\n",
       "       [604,  34],\n",
       "       [605,  37],\n",
       "       [606,  40],\n",
       "       [607,  36],\n",
       "       [608,  43],\n",
       "       [609,  30],\n",
       "       [610,  29],\n",
       "       [611,  38],\n",
       "       [612,  30],\n",
       "       [613,  42],\n",
       "       [614,  37],\n",
       "       [615,  35],\n",
       "       [616,  37],\n",
       "       [617,  31],\n",
       "       [618,  28],\n",
       "       [619,  44],\n",
       "       [620,  33],\n",
       "       [621,  33],\n",
       "       [622,  36],\n",
       "       [623,  32],\n",
       "       [624,  37],\n",
       "       [625,  43],\n",
       "       [626,  28],\n",
       "       [627,  44],\n",
       "       [628,  43],\n",
       "       [629,  37],\n",
       "       [630,  38],\n",
       "       [631,  33],\n",
       "       [632,  42],\n",
       "       [633,  45],\n",
       "       [634,  40],\n",
       "       [635,  42],\n",
       "       [636,  36],\n",
       "       [637,  46],\n",
       "       [638,  34],\n",
       "       [639,  37],\n",
       "       [640,  47],\n",
       "       [641,  38],\n",
       "       [642,  37],\n",
       "       [643,  32],\n",
       "       [644,  39],\n",
       "       [645,  45],\n",
       "       [646,  44],\n",
       "       [647,  31],\n",
       "       [648,  48],\n",
       "       [649,  36],\n",
       "       [650,  37],\n",
       "       [651,  50],\n",
       "       [652,  48],\n",
       "       [653,  37],\n",
       "       [654,  30],\n",
       "       [655,  54],\n",
       "       [656,  39],\n",
       "       [657,  32],\n",
       "       [658,  34],\n",
       "       [659,  38],\n",
       "       [660,  48],\n",
       "       [661,  35],\n",
       "       [662,  37],\n",
       "       [663,  47],\n",
       "       [664,  32],\n",
       "       [665,  33],\n",
       "       [666,  38],\n",
       "       [667,  53],\n",
       "       [668,  35],\n",
       "       [669,  36],\n",
       "       [670,  50],\n",
       "       [671,  34],\n",
       "       [672,  27],\n",
       "       [673,  35],\n",
       "       [674,  30],\n",
       "       [675,  37],\n",
       "       [676,  36],\n",
       "       [677,  35],\n",
       "       [678,  63],\n",
       "       [679,  45],\n",
       "       [680,  40],\n",
       "       [681,  39],\n",
       "       [682,  47],\n",
       "       [683,  48],\n",
       "       [684,  52],\n",
       "       [685,  35],\n",
       "       [686,  45],\n",
       "       [687,  45],\n",
       "       [688,  30],\n",
       "       [689,  33],\n",
       "       [690,  29],\n",
       "       [691,  34],\n",
       "       [692,  32],\n",
       "       [693,  33],\n",
       "       [694,  33],\n",
       "       [695,  37],\n",
       "       [696,  38],\n",
       "       [697,  36],\n",
       "       [698,  41],\n",
       "       [699,  40],\n",
       "       [700,  32],\n",
       "       [701,  41],\n",
       "       [702,  27],\n",
       "       [703,  32],\n",
       "       [704,  34],\n",
       "       [705,  53],\n",
       "       [706,  44],\n",
       "       [707,  36],\n",
       "       [708,  28],\n",
       "       [709,  36],\n",
       "       [710,  45],\n",
       "       [711,  39],\n",
       "       [712,  41],\n",
       "       [713,  26],\n",
       "       [714,  45],\n",
       "       [715,  27],\n",
       "       [716,  27],\n",
       "       [717,  34],\n",
       "       [718,  38],\n",
       "       [719,  27],\n",
       "       [720,  28],\n",
       "       [721,  32],\n",
       "       [722,  22],\n",
       "       [723,  20],\n",
       "       [724,  37],\n",
       "       [725,  27],\n",
       "       [726,  29],\n",
       "       [727,  36],\n",
       "       [728,  23],\n",
       "       [729,  31],\n",
       "       [730,  33],\n",
       "       [731,  34],\n",
       "       [732,  29],\n",
       "       [733,  30],\n",
       "       [734,  20],\n",
       "       [735,  26],\n",
       "       [736,  20],\n",
       "       [737,  22],\n",
       "       [738,  31],\n",
       "       [739,  27],\n",
       "       [740,  19],\n",
       "       [741,  27],\n",
       "       [742,  21],\n",
       "       [743,  29],\n",
       "       [744,  28],\n",
       "       [745,  29],\n",
       "       [746,  23],\n",
       "       [747,  22],\n",
       "       [748,  28],\n",
       "       [749,  30],\n",
       "       [750,  25],\n",
       "       [751,  27],\n",
       "       [752,  24],\n",
       "       [753,  26],\n",
       "       [754,  27],\n",
       "       [755,  24],\n",
       "       [756,  30],\n",
       "       [757,  30],\n",
       "       [758,  27],\n",
       "       [759,  19],\n",
       "       [760,  19],\n",
       "       [761,  11],\n",
       "       [762,  26],\n",
       "       [763,  20],\n",
       "       [764,  17],\n",
       "       [765,  19],\n",
       "       [766,  20],\n",
       "       [767,  21],\n",
       "       [768,  18],\n",
       "       [769,  24],\n",
       "       [770,  15],\n",
       "       [771,  19],\n",
       "       [772,  16],\n",
       "       [773,  26],\n",
       "       [774,  24],\n",
       "       [775,  28],\n",
       "       [776,  18],\n",
       "       [777,  20],\n",
       "       [778,  22],\n",
       "       [779,  20],\n",
       "       [780,  11],\n",
       "       [781,  19],\n",
       "       [782,  18],\n",
       "       [783,  11],\n",
       "       [784,  12],\n",
       "       [785,  18],\n",
       "       [786,  18],\n",
       "       [787,  14],\n",
       "       [788,  13],\n",
       "       [789,  13],\n",
       "       [790,  23],\n",
       "       [791,  14],\n",
       "       [792,  18],\n",
       "       [793,  18],\n",
       "       [794,  21],\n",
       "       [795,  11],\n",
       "       [796,  15],\n",
       "       [797,  14],\n",
       "       [798,  13],\n",
       "       [799,  12],\n",
       "       [800,  10],\n",
       "       [801,   7],\n",
       "       [802,  14],\n",
       "       [803,  15],\n",
       "       [804,   8],\n",
       "       [805,  12],\n",
       "       [806,  15],\n",
       "       [807,  19],\n",
       "       [808,  10],\n",
       "       [809,  15],\n",
       "       [810,   6],\n",
       "       [811,  13],\n",
       "       [812,  12],\n",
       "       [813,  11],\n",
       "       [814,  11],\n",
       "       [815,  11],\n",
       "       [816,   6],\n",
       "       [817,   9],\n",
       "       [818,   6],\n",
       "       [819,   6],\n",
       "       [820,   8],\n",
       "       [821,   8],\n",
       "       [822,   5],\n",
       "       [823,   7],\n",
       "       [824,   7],\n",
       "       [825,   8],\n",
       "       [826,   7],\n",
       "       [827,   5],\n",
       "       [828,  10],\n",
       "       [829,   8],\n",
       "       [830,   2],\n",
       "       [831,   6],\n",
       "       [832,   6],\n",
       "       [833,   9],\n",
       "       [834,  11],\n",
       "       [835,  12],\n",
       "       [836,   5],\n",
       "       [837,   8],\n",
       "       [838,   8],\n",
       "       [839,   3],\n",
       "       [840,   5],\n",
       "       [841,  12],\n",
       "       [842,   7],\n",
       "       [843,   2],\n",
       "       [844,   7],\n",
       "       [845,   6],\n",
       "       [846,   5],\n",
       "       [847,   6],\n",
       "       [848,   5],\n",
       "       [849,   8],\n",
       "       [850, 233]])"
      ]
     },
     "execution_count": 50,
     "metadata": {},
     "output_type": "execute_result"
    }
   ],
   "source": [
    "itemfreq(data.CreditScore)"
   ]
  },
  {
   "cell_type": "code",
   "execution_count": 54,
   "metadata": {},
   "outputs": [
    {
     "name": "stdout",
     "output_type": "stream",
     "text": [
      "(-0.007201042376657291, 0.47151049349711416)\n"
     ]
    }
   ],
   "source": [
    "test_lambda = stats.pearsonr(data.EstimatedSalary, data.Age)\n",
    "print(test_lambda)"
   ]
  },
  {
   "cell_type": "code",
   "execution_count": 59,
   "metadata": {},
   "outputs": [],
   "source": [
    "X = np.array([data.Age]).reshape(-1, 1)\n",
    "y = data.EstimatedSalary"
   ]
  },
  {
   "cell_type": "code",
   "execution_count": 60,
   "metadata": {},
   "outputs": [],
   "source": [
    "from sklearn.model_selection import train_test_split\n",
    "X_train, X_test, y_train, y_test = train_test_split(X, y, test_size = 0.3)"
   ]
  },
  {
   "cell_type": "code",
   "execution_count": 61,
   "metadata": {},
   "outputs": [
    {
     "name": "stdout",
     "output_type": "stream",
     "text": [
      "[ 99985.12608904 100167.11658794  99985.12608904 ... 100652.42458501\n",
      " 100773.75158428 100288.44358721]\n"
     ]
    }
   ],
   "source": [
    "from sklearn.linear_model import LinearRegression\n",
    "model = LinearRegression()\n",
    "model.fit(X_train, y_train)\n",
    "\n",
    "y_pred = model.predict(X_test)\n",
    "print(y_pred)"
   ]
  },
  {
   "cell_type": "code",
   "execution_count": 78,
   "metadata": {},
   "outputs": [
    {
     "data": {
      "text/plain": [
       "<matplotlib.axes._subplots.AxesSubplot at 0x7fc04a3acdf0>"
      ]
     },
     "execution_count": 78,
     "metadata": {},
     "output_type": "execute_result"
    },
    {
     "data": {
      "image/png": "[encoded data removed]",
      "text/plain": [
       "<Figure size 432x288 with 1 Axes>"
      ]
     },
     "metadata": {
      "needs_background": "light"
     },
     "output_type": "display_data"
    }
   ],
   "source": [
    "sns.barplot(data.Age.head(30), data.EstimatedSalary.head(30))"
   ]
  },
  {
   "cell_type": "code",
   "execution_count": 80,
   "metadata": {},
   "outputs": [
    {
     "name": "stdout",
     "output_type": "stream",
     "text": [
      "mean absolute error:  49628.421701368294\n",
      "mean R2 Score:  -0.00016782202835052829\n"
     ]
    }
   ],
   "source": [
    "from sklearn.metrics import mean_absolute_error\n",
    "from sklearn.metrics import mean_squared_error\n",
    "from sklearn.metrics import r2_score\n",
    "\n",
    "print('mean absolute error: ', mean_absolute_error(y_test, y_pred))\n",
    "print('mean R2 Score: ', r2_score(y_test, y_pred))"
   ]
  },
  {
   "cell_type": "code",
   "execution_count": null,
   "metadata": {},
   "outputs": [],
   "source": []
  }
 ],
 "metadata": {
  "kernelspec": {
   "display_name": "Python 3",
   "language": "python",
   "name": "python3"
  },
  "language_info": {
   "codemirror_mode": {
    "name": "ipython",
    "version": 3
   },
   "file_extension": ".py",
   "mimetype": "text/x-python",
   "name": "python",
   "nbconvert_exporter": "python",
   "pygments_lexer": "ipython3",
   "version": "3.8.3"
  }
 },
 "nbformat": 4,
 "nbformat_minor": 4
}
