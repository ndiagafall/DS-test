{
 "cells": [
  {
   "cell_type": "code",
   "execution_count": 1,
   "metadata": {},
   "outputs": [],
   "source": [
    "import numpy as np\n",
    "import matplotlib.pyplot as plt\n",
    "import pandas as pd"
   ]
  },
  {
   "cell_type": "code",
   "execution_count": 2,
   "metadata": {},
   "outputs": [],
   "source": [
    "dataset = pd.read_csv('Churn_Modelling.csv')\n",
    "X = dataset.iloc[:, 3:13].values\n",
    "y = dataset.iloc[:, 13].values"
   ]
  },
  {
   "cell_type": "code",
   "execution_count": 3,
   "metadata": {},
   "outputs": [],
   "source": [
    "from sklearn.preprocessing import LabelEncoder, OneHotEncoder\n",
    "from sklearn.compose import ColumnTransformer\n",
    "\n",
    "labelencoder_X_1 = LabelEncoder()\n",
    "X[:, 1] = labelencoder_X_1.fit_transform(X[:, 1])\n",
    "\n",
    "labelencoder_X_2 = LabelEncoder()\n",
    "X[:, 2] = labelencoder_X_2.fit_transform(X[:, 2])\n",
    "\n",
    "columnTransformer = ColumnTransformer([('encoder', OneHotEncoder(), [1])], remainder='passthrough')\n",
    "\n",
    "X = columnTransformer.fit_transform(X.tolist())\n",
    "X = X.astype('float64')\n",
    "\n",
    "X = X[:, 1:]"
   ]
  },
  {
   "cell_type": "code",
   "execution_count": 4,
   "metadata": {},
   "outputs": [],
   "source": [
    "from sklearn.model_selection import train_test_split\n",
    "\n",
    "X_train, X_test, y_train, y_test = train_test_split(X, y, test_size = 0.3, random_state = 1)"
   ]
  },
  {
   "cell_type": "code",
   "execution_count": 5,
   "metadata": {},
   "outputs": [],
   "source": [
    "from sklearn.preprocessing import StandardScaler\n",
    "\n",
    "sc = StandardScaler()\n",
    "\n",
    "X_train = sc.fit_transform(X_train)\n",
    "\n",
    "X_test = sc.transform(X_test)"
   ]
  },
  {
   "cell_type": "code",
   "execution_count": 6,
   "metadata": {},
   "outputs": [],
   "source": [
    "import keras\n",
    "from keras.models import Sequential\n",
    "from keras.layers import Dense"
   ]
  },
  {
   "cell_type": "code",
   "execution_count": 8,
   "metadata": {},
   "outputs": [
    {
     "name": "stdout",
     "output_type": "stream",
     "text": [
      "Epoch 1/100\n",
      "700/700 [==============================] - 0s 543us/step - loss: 0.5007 - accuracy: 0.7937\n",
      "Epoch 2/100\n",
      "700/700 [==============================] - 0s 547us/step - loss: 0.4408 - accuracy: 0.8087\n",
      "Epoch 3/100\n",
      "700/700 [==============================] - 0s 549us/step - loss: 0.4277 - accuracy: 0.8160\n",
      "Epoch 4/100\n",
      "700/700 [==============================] - 0s 545us/step - loss: 0.4213 - accuracy: 0.8220\n",
      "Epoch 5/100\n",
      "700/700 [==============================] - 0s 539us/step - loss: 0.4163 - accuracy: 0.8257\n",
      "Epoch 6/100\n",
      "700/700 [==============================] - 0s 538us/step - loss: 0.4129 - accuracy: 0.8293\n",
      "Epoch 7/100\n",
      "700/700 [==============================] - 0s 538us/step - loss: 0.4095 - accuracy: 0.8327\n",
      "Epoch 8/100\n",
      "700/700 [==============================] - 0s 539us/step - loss: 0.4067 - accuracy: 0.8331\n",
      "Epoch 9/100\n",
      "700/700 [==============================] - 0s 542us/step - loss: 0.4030 - accuracy: 0.8349\n",
      "Epoch 10/100\n",
      "700/700 [==============================] - 0s 539us/step - loss: 0.3979 - accuracy: 0.8353\n",
      "Epoch 11/100\n",
      "700/700 [==============================] - 0s 544us/step - loss: 0.3900 - accuracy: 0.8413\n",
      "Epoch 12/100\n",
      "700/700 [==============================] - 0s 546us/step - loss: 0.3772 - accuracy: 0.8471\n",
      "Epoch 13/100\n",
      "700/700 [==============================] - 0s 548us/step - loss: 0.3630 - accuracy: 0.8527\n",
      "Epoch 14/100\n",
      "700/700 [==============================] - 0s 541us/step - loss: 0.3536 - accuracy: 0.8564\n",
      "Epoch 15/100\n",
      "700/700 [==============================] - 0s 545us/step - loss: 0.3478 - accuracy: 0.8597\n",
      "Epoch 16/100\n",
      "700/700 [==============================] - 0s 542us/step - loss: 0.3450 - accuracy: 0.8581\n",
      "Epoch 17/100\n",
      "700/700 [==============================] - 0s 537us/step - loss: 0.3432 - accuracy: 0.8583\n",
      "Epoch 18/100\n",
      "700/700 [==============================] - 0s 564us/step - loss: 0.3422 - accuracy: 0.8581\n",
      "Epoch 19/100\n",
      "700/700 [==============================] - 0s 603us/step - loss: 0.3407 - accuracy: 0.8586\n",
      "Epoch 20/100\n",
      "700/700 [==============================] - 0s 593us/step - loss: 0.3401 - accuracy: 0.8604\n",
      "Epoch 21/100\n",
      "700/700 [==============================] - 0s 550us/step - loss: 0.3400 - accuracy: 0.8594\n",
      "Epoch 22/100\n",
      "700/700 [==============================] - 0s 552us/step - loss: 0.3396 - accuracy: 0.8591\n",
      "Epoch 23/100\n",
      "700/700 [==============================] - 0s 547us/step - loss: 0.3391 - accuracy: 0.8591\n",
      "Epoch 24/100\n",
      "700/700 [==============================] - 0s 602us/step - loss: 0.3392 - accuracy: 0.8587\n",
      "Epoch 25/100\n",
      "700/700 [==============================] - 0s 599us/step - loss: 0.3385 - accuracy: 0.8599\n",
      "Epoch 26/100\n",
      "700/700 [==============================] - 0s 562us/step - loss: 0.3384 - accuracy: 0.8583\n",
      "Epoch 27/100\n",
      "700/700 [==============================] - 0s 549us/step - loss: 0.3375 - accuracy: 0.8594\n",
      "Epoch 28/100\n",
      "700/700 [==============================] - 0s 561us/step - loss: 0.3377 - accuracy: 0.8600\n",
      "Epoch 29/100\n",
      "700/700 [==============================] - 0s 551us/step - loss: 0.3377 - accuracy: 0.8599\n",
      "Epoch 30/100\n",
      "700/700 [==============================] - 0s 530us/step - loss: 0.3365 - accuracy: 0.8594\n",
      "Epoch 31/100\n",
      "700/700 [==============================] - 0s 543us/step - loss: 0.3370 - accuracy: 0.8601\n",
      "Epoch 32/100\n",
      "700/700 [==============================] - 0s 543us/step - loss: 0.3362 - accuracy: 0.8617\n",
      "Epoch 33/100\n",
      "700/700 [==============================] - 0s 542us/step - loss: 0.3367 - accuracy: 0.8593\n",
      "Epoch 34/100\n",
      "700/700 [==============================] - 0s 555us/step - loss: 0.3359 - accuracy: 0.8607\n",
      "Epoch 35/100\n",
      "700/700 [==============================] - 0s 545us/step - loss: 0.3359 - accuracy: 0.8599\n",
      "Epoch 36/100\n",
      "700/700 [==============================] - 0s 544us/step - loss: 0.3353 - accuracy: 0.8611\n",
      "Epoch 37/100\n",
      "700/700 [==============================] - 0s 537us/step - loss: 0.3347 - accuracy: 0.8629\n",
      "Epoch 38/100\n",
      "700/700 [==============================] - 0s 547us/step - loss: 0.3340 - accuracy: 0.8599\n",
      "Epoch 39/100\n",
      "700/700 [==============================] - 0s 546us/step - loss: 0.3349 - accuracy: 0.8606\n",
      "Epoch 40/100\n",
      "700/700 [==============================] - 0s 542us/step - loss: 0.3343 - accuracy: 0.8607\n",
      "Epoch 41/100\n",
      "700/700 [==============================] - 0s 551us/step - loss: 0.3342 - accuracy: 0.8623\n",
      "Epoch 42/100\n",
      "700/700 [==============================] - 0s 546us/step - loss: 0.3341 - accuracy: 0.8577\n",
      "Epoch 43/100\n",
      "700/700 [==============================] - 0s 545us/step - loss: 0.3334 - accuracy: 0.8614\n",
      "Epoch 44/100\n",
      "700/700 [==============================] - 0s 545us/step - loss: 0.3340 - accuracy: 0.8610\n",
      "Epoch 45/100\n",
      "700/700 [==============================] - 0s 548us/step - loss: 0.3337 - accuracy: 0.8600\n",
      "Epoch 46/100\n",
      "700/700 [==============================] - 0s 544us/step - loss: 0.3337 - accuracy: 0.8604\n",
      "Epoch 47/100\n",
      "700/700 [==============================] - 0s 546us/step - loss: 0.3333 - accuracy: 0.8604\n",
      "Epoch 48/100\n",
      "700/700 [==============================] - 0s 542us/step - loss: 0.3333 - accuracy: 0.8610\n",
      "Epoch 49/100\n",
      "700/700 [==============================] - 0s 551us/step - loss: 0.3330 - accuracy: 0.8601\n",
      "Epoch 50/100\n",
      "700/700 [==============================] - 0s 539us/step - loss: 0.3329 - accuracy: 0.8613\n",
      "Epoch 51/100\n",
      "700/700 [==============================] - 0s 543us/step - loss: 0.3330 - accuracy: 0.8599\n",
      "Epoch 52/100\n",
      "700/700 [==============================] - 0s 564us/step - loss: 0.3325 - accuracy: 0.8591\n",
      "Epoch 53/100\n",
      "700/700 [==============================] - 0s 591us/step - loss: 0.3330 - accuracy: 0.8587\n",
      "Epoch 54/100\n",
      "700/700 [==============================] - 0s 584us/step - loss: 0.3324 - accuracy: 0.8619\n",
      "Epoch 55/100\n",
      "700/700 [==============================] - 0s 555us/step - loss: 0.3325 - accuracy: 0.8623\n",
      "Epoch 56/100\n",
      "700/700 [==============================] - 0s 545us/step - loss: 0.3323 - accuracy: 0.8611\n",
      "Epoch 57/100\n",
      "700/700 [==============================] - 0s 593us/step - loss: 0.3324 - accuracy: 0.8604\n",
      "Epoch 58/100\n",
      "700/700 [==============================] - 0s 553us/step - loss: 0.3325 - accuracy: 0.8614\n",
      "Epoch 59/100\n",
      "700/700 [==============================] - 0s 568us/step - loss: 0.3316 - accuracy: 0.8613\n",
      "Epoch 60/100\n",
      "700/700 [==============================] - 0s 554us/step - loss: 0.3321 - accuracy: 0.8617\n",
      "Epoch 61/100\n",
      "700/700 [==============================] - 0s 563us/step - loss: 0.3320 - accuracy: 0.8604\n",
      "Epoch 62/100\n",
      "700/700 [==============================] - 0s 543us/step - loss: 0.3323 - accuracy: 0.8619\n",
      "Epoch 63/100\n",
      "700/700 [==============================] - 0s 563us/step - loss: 0.3320 - accuracy: 0.8597\n",
      "Epoch 64/100\n",
      "700/700 [==============================] - 0s 582us/step - loss: 0.3319 - accuracy: 0.8599\n",
      "Epoch 65/100\n",
      "700/700 [==============================] - 0s 591us/step - loss: 0.3311 - accuracy: 0.8604\n",
      "Epoch 66/100\n",
      "700/700 [==============================] - 0s 573us/step - loss: 0.3315 - accuracy: 0.8609\n",
      "Epoch 67/100\n",
      "700/700 [==============================] - 0s 557us/step - loss: 0.3318 - accuracy: 0.8616\n",
      "Epoch 68/100\n",
      "700/700 [==============================] - 0s 547us/step - loss: 0.3313 - accuracy: 0.8613\n",
      "Epoch 69/100\n",
      "700/700 [==============================] - 0s 537us/step - loss: 0.3310 - accuracy: 0.8616\n",
      "Epoch 70/100\n",
      "700/700 [==============================] - 0s 544us/step - loss: 0.3307 - accuracy: 0.8630\n",
      "Epoch 71/100\n",
      "700/700 [==============================] - 0s 551us/step - loss: 0.3309 - accuracy: 0.8601\n",
      "Epoch 72/100\n",
      "700/700 [==============================] - 0s 548us/step - loss: 0.3316 - accuracy: 0.8606\n",
      "Epoch 73/100\n",
      "700/700 [==============================] - 0s 559us/step - loss: 0.3310 - accuracy: 0.8604\n",
      "Epoch 74/100\n",
      "700/700 [==============================] - 0s 552us/step - loss: 0.3306 - accuracy: 0.8596\n",
      "Epoch 75/100\n",
      "700/700 [==============================] - 0s 546us/step - loss: 0.3310 - accuracy: 0.8617\n",
      "Epoch 76/100\n",
      "700/700 [==============================] - 0s 540us/step - loss: 0.3303 - accuracy: 0.8620\n",
      "Epoch 77/100\n",
      "700/700 [==============================] - 0s 568us/step - loss: 0.3311 - accuracy: 0.8607\n",
      "Epoch 78/100\n",
      "700/700 [==============================] - 0s 586us/step - loss: 0.3303 - accuracy: 0.8619\n",
      "Epoch 79/100\n",
      "700/700 [==============================] - 0s 572us/step - loss: 0.3309 - accuracy: 0.8610\n",
      "Epoch 80/100\n",
      "700/700 [==============================] - 0s 551us/step - loss: 0.3301 - accuracy: 0.8617\n",
      "Epoch 81/100\n",
      "700/700 [==============================] - 0s 539us/step - loss: 0.3309 - accuracy: 0.8601\n",
      "Epoch 82/100\n",
      "700/700 [==============================] - 0s 569us/step - loss: 0.3304 - accuracy: 0.8600\n",
      "Epoch 83/100\n",
      "700/700 [==============================] - 0s 543us/step - loss: 0.3299 - accuracy: 0.8623\n",
      "Epoch 84/100\n",
      "700/700 [==============================] - 0s 546us/step - loss: 0.3305 - accuracy: 0.8601\n",
      "Epoch 85/100\n",
      "700/700 [==============================] - 0s 556us/step - loss: 0.3306 - accuracy: 0.8614\n",
      "Epoch 86/100\n",
      "700/700 [==============================] - 0s 557us/step - loss: 0.3299 - accuracy: 0.8624\n",
      "Epoch 87/100\n",
      "700/700 [==============================] - 0s 557us/step - loss: 0.3310 - accuracy: 0.8613\n",
      "Epoch 88/100\n",
      "700/700 [==============================] - 0s 552us/step - loss: 0.3300 - accuracy: 0.8629\n",
      "Epoch 89/100\n",
      "700/700 [==============================] - 0s 550us/step - loss: 0.3300 - accuracy: 0.8609\n",
      "Epoch 90/100\n",
      "700/700 [==============================] - 0s 564us/step - loss: 0.3305 - accuracy: 0.8614\n",
      "Epoch 91/100\n",
      "700/700 [==============================] - 0s 550us/step - loss: 0.3301 - accuracy: 0.8617\n",
      "Epoch 92/100\n",
      "700/700 [==============================] - 0s 553us/step - loss: 0.3302 - accuracy: 0.8609\n",
      "Epoch 93/100\n",
      "700/700 [==============================] - 0s 559us/step - loss: 0.3301 - accuracy: 0.8610\n",
      "Epoch 94/100\n",
      "700/700 [==============================] - 0s 548us/step - loss: 0.3306 - accuracy: 0.8603\n",
      "Epoch 95/100\n",
      "700/700 [==============================] - 0s 565us/step - loss: 0.3302 - accuracy: 0.8606\n",
      "Epoch 96/100\n",
      "700/700 [==============================] - 0s 554us/step - loss: 0.3301 - accuracy: 0.8606\n",
      "Epoch 97/100\n",
      "700/700 [==============================] - 0s 584us/step - loss: 0.3302 - accuracy: 0.8623\n",
      "Epoch 98/100\n",
      "700/700 [==============================] - 0s 565us/step - loss: 0.3304 - accuracy: 0.8639\n",
      "Epoch 99/100\n",
      "700/700 [==============================] - 0s 558us/step - loss: 0.3298 - accuracy: 0.8623\n",
      "Epoch 100/100\n",
      "700/700 [==============================] - 0s 563us/step - loss: 0.3299 - accuracy: 0.8597\n"
     ]
    },
    {
     "data": {
      "text/plain": [
       "<tensorflow.python.keras.callbacks.History at 0x7f9f841809a0>"
      ]
     },
     "execution_count": 8,
     "metadata": {},
     "output_type": "execute_result"
    }
   ],
   "source": [
    "classifier = Sequential()\n",
    "\n",
    "classifier.add(Dense(6, kernel_initializer= 'glorot_uniform', activation = 'relu', input_dim = 11))\n",
    "\n",
    "classifier.add(Dense(6, kernel_initializer= 'glorot_uniform', activation = 'relu'))\n",
    "\n",
    "classifier.add(Dense(1, kernel_initializer= 'glorot_uniform', activation = 'sigmoid'))\n",
    "\n",
    "classifier.compile(optimizer = 'adam', loss = 'binary_crossentropy', metrics = ['accuracy'])\n",
    "\n",
    "classifier.fit(X_train, y_train, batch_size = 10, epochs = 100)"
   ]
  },
  {
   "cell_type": "code",
   "execution_count": 9,
   "metadata": {},
   "outputs": [
    {
     "name": "stdout",
     "output_type": "stream",
     "text": [
      "[[False]\n",
      " [False]\n",
      " [False]\n",
      " ...\n",
      " [False]\n",
      " [False]\n",
      " [False]]\n"
     ]
    }
   ],
   "source": [
    "y_pred = classifier.predict(X_test)\n",
    "y_pred = (y_pred > 0.5)\n",
    "\n",
    "print(y_pred)"
   ]
  },
  {
   "cell_type": "code",
   "execution_count": 10,
   "metadata": {},
   "outputs": [
    {
     "name": "stdout",
     "output_type": "stream",
     "text": [
      "[[2260  113]\n",
      " [ 312  315]]\n"
     ]
    }
   ],
   "source": [
    "from sklearn.metrics import confusion_matrix\n",
    "\n",
    "cm = confusion_matrix(y_test, y_pred)\n",
    "\n",
    "print(cm)"
   ]
  },
  {
   "cell_type": "code",
   "execution_count": 15,
   "metadata": {},
   "outputs": [
    {
     "data": {
      "text/plain": [
       "0.5971563981042654"
      ]
     },
     "execution_count": 15,
     "metadata": {},
     "output_type": "execute_result"
    }
   ],
   "source": [
    "from sklearn.metrics import f1_score, accuracy_score\n",
    "from sklearn.metrics import precision_score, recall_score\n",
    "\n",
    "f1_score(y_pred, y_test)"
   ]
  },
  {
   "cell_type": "code",
   "execution_count": 13,
   "metadata": {},
   "outputs": [
    {
     "data": {
      "text/plain": [
       "0.5023923444976076"
      ]
     },
     "execution_count": 13,
     "metadata": {},
     "output_type": "execute_result"
    }
   ],
   "source": [
    "precision_score(y_pred, y_test)"
   ]
  },
  {
   "cell_type": "code",
   "execution_count": 14,
   "metadata": {},
   "outputs": [
    {
     "data": {
      "text/plain": [
       "0.735981308411215"
      ]
     },
     "execution_count": 14,
     "metadata": {},
     "output_type": "execute_result"
    }
   ],
   "source": [
    "recall_score(y_pred, y_test)"
   ]
  },
  {
   "cell_type": "code",
   "execution_count": 16,
   "metadata": {},
   "outputs": [
    {
     "data": {
      "text/plain": [
       "0.8583333333333333"
      ]
     },
     "execution_count": 16,
     "metadata": {},
     "output_type": "execute_result"
    }
   ],
   "source": [
    "accuracy_score(y_pred, y_test)"
   ]
  },
  {
   "cell_type": "code",
   "execution_count": null,
   "metadata": {},
   "outputs": [],
   "source": []
  }
 ],
 "metadata": {
  "kernelspec": {
   "display_name": "Python 3",
   "language": "python",
   "name": "python3"
  },
  "language_info": {
   "codemirror_mode": {
    "name": "ipython",
    "version": 3
   },
   "file_extension": ".py",
   "mimetype": "text/x-python",
   "name": "python",
   "nbconvert_exporter": "python",
   "pygments_lexer": "ipython3",
   "version": "3.8.3"
  }
 },
 "nbformat": 4,
 "nbformat_minor": 4
}
